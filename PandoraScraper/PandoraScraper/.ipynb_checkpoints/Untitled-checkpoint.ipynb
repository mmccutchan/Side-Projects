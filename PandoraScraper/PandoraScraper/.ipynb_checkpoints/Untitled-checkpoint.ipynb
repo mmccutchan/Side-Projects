{
 "cells": [
  {
   "cell_type": "code",
   "execution_count": 49,
   "metadata": {},
   "outputs": [],
   "source": [
    "import eyed3\n",
    "import os"
   ]
  },
  {
   "cell_type": "code",
   "execution_count": 50,
   "metadata": {
    "collapsed": true
   },
   "outputs": [],
   "source": [
    "root = r'C:\\Users\\mmccutchan\\Desktop\\Test'\n",
    "files = os.listdir(root)\n",
    "mp3s = []"
   ]
  },
  {
   "cell_type": "code",
   "execution_count": 51,
   "metadata": {},
   "outputs": [],
   "source": [
    "for file in files:\n",
    "    if file.endswith('.mp3'):\n",
    "        mp3s.append(file)"
   ]
  },
  {
   "cell_type": "code",
   "execution_count": 60,
   "metadata": {},
   "outputs": [
    {
     "name": "stdout",
     "output_type": "stream",
     "text": [
      "Young Folks\n"
     ]
    }
   ],
   "source": [
    "pieces = []\n",
    "for mp3 in mp3s:\n",
    "    pieces = mp3.split('-')\n",
    "\n",
    "    song = pieces[0]\n",
    "    artist = pieces[1]\n",
    "    album = pieces[2]\n",
    "\n",
    "    audioFile = eyed3.load(os.path.join(root, mp3))\n",
    "    audioFile.initTag()\n",
    "\n",
    "    audioFile.tag.artist = artist\n",
    "    audioFile.tag.album = album\n",
    "    audioFile.tag.album_artist = artist\n",
    "    audioFile.tag.title = song\n",
    "    audioFile.tag.save(os.path.join(root, mp3))"
   ]
  },
  {
   "cell_type": "code",
   "execution_count": null,
   "metadata": {
    "collapsed": true
   },
   "outputs": [],
   "source": []
  }
 ],
 "metadata": {
  "kernelspec": {
   "display_name": "Python 3",
   "language": "python",
   "name": "python3"
  },
  "language_info": {
   "codemirror_mode": {
    "name": "ipython",
    "version": 3
   },
   "file_extension": ".py",
   "mimetype": "text/x-python",
   "name": "python",
   "nbconvert_exporter": "python",
   "pygments_lexer": "ipython3",
   "version": "3.6.3"
  }
 },
 "nbformat": 4,
 "nbformat_minor": 2
}
